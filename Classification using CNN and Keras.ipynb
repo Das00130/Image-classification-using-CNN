{
 "cells": [
  {
   "cell_type": "code",
   "execution_count": 2,
   "metadata": {},
   "outputs": [
    {
     "name": "stderr",
     "output_type": "stream",
     "text": [
      "C:\\Users\\DAMI\\Anaconda3\\lib\\site-packages\\h5py\\__init__.py:34: FutureWarning: Conversion of the second argument of issubdtype from `float` to `np.floating` is deprecated. In future, it will be treated as `np.float64 == np.dtype(float).type`.\n",
      "  from ._conv import register_converters as _register_converters\n",
      "Using TensorFlow backend.\n"
     ]
    },
    {
     "name": "stdout",
     "output_type": "stream",
     "text": [
      "Found 999 images belonging to 2 classes.\n",
      "Found 300 images belonging to 2 classes.\n",
      "Epoch 1/5\n",
      "110/110 [==============================] - 53s 485ms/step - loss: 0.6906 - acc: 0.5432 - val_loss: 0.6765 - val_acc: 0.5533\n",
      "Epoch 2/5\n",
      "110/110 [==============================] - 26s 237ms/step - loss: 0.6636 - acc: 0.5998 - val_loss: 0.6819 - val_acc: 0.5650\n",
      "Epoch 3/5\n",
      "110/110 [==============================] - 27s 247ms/step - loss: 0.5960 - acc: 0.6834 - val_loss: 0.6428 - val_acc: 0.6650\n",
      "Epoch 4/5\n",
      "110/110 [==============================] - 27s 246ms/step - loss: 0.5648 - acc: 0.7090 - val_loss: 0.7268 - val_acc: 0.5917\n",
      "Epoch 5/5\n",
      "110/110 [==============================] - 27s 244ms/step - loss: 0.5192 - acc: 0.7429 - val_loss: 0.6636 - val_acc: 0.6500\n"
     ]
    },
    {
     "data": {
      "text/plain": [
       "<keras.callbacks.History at 0x26466b8c128>"
      ]
     },
     "execution_count": 2,
     "metadata": {},
     "output_type": "execute_result"
    }
   ],
   "source": [
    "'''importing the required libraries'''\n",
    "\n",
    "from keras.models import Sequential\n",
    "from keras.layers import Conv2D\n",
    "from keras.layers import MaxPooling2D\n",
    "from keras.layers import Flatten\n",
    "from keras.layers import Dense\n",
    "from keras.preprocessing.image import ImageDataGenerator\n",
    "from keras.preprocessing import image\n",
    "import matplotlib.pyplot as plt\n",
    "import numpy as np\n",
    "import random\n",
    "import os\n",
    "\n",
    "'''Data Preprocessing including Data Augumentation and Train Test split '''\n",
    "\n",
    "train_datagen = ImageDataGenerator(rescale = 1./255,shear_range = 0.2,zoom_range = 0.2,horizontal_flip = True)\n",
    "test_datagen = ImageDataGenerator(rescale = 1./255)\n",
    "training_set = train_datagen.flow_from_directory('training_set',target_size = (64, 64),batch_size = 20,\n",
    "                                                 class_mode = 'categorical')\n",
    "test_set = test_datagen.flow_from_directory('test_set',target_size = (64, 64),batch_size = 20,class_mode = 'categorical')\n",
    "\n",
    "'''Stepwise procedure of creating CNN model'''\n",
    "\n",
    "# Initialising the CNN\n",
    "model = Sequential()\n",
    "\n",
    "# Adding the Convolution layer\n",
    "model.add(Conv2D(32, (3, 3), input_shape = (64, 64, 3), activation = 'relu'))\n",
    "\n",
    "# Adding the Pooling layer\n",
    "model.add(MaxPooling2D(pool_size = (2, 2)))\n",
    "\n",
    "# Adding a second Convolutional layer\n",
    "model.add(Conv2D(32, (3, 3), activation = 'relu'))\n",
    "\n",
    "# Adding a second Pooling layer\n",
    "model.add(MaxPooling2D(pool_size = (2, 2)))\n",
    "\n",
    "# Adding the Flattening layer\n",
    "model.add(Flatten())\n",
    "\n",
    "# Adding the Full connection(hidden) layers\n",
    "model.add(Dense(units = 128, activation = 'relu'))\n",
    "model.add(Dense(units = 2, activation = 'sigmoid'))\n",
    "\n",
    "# Compiling the model\n",
    "model.compile(optimizer = 'adam', loss = 'binary_crossentropy', metrics = ['accuracy'])\n",
    "\n",
    "#Fitting the CNN to the images\n",
    "model.fit_generator(training_set,steps_per_epoch = 110,epochs = 5,validation_data = test_set,validation_steps = 10)\n"
   ]
  },
  {
   "cell_type": "code",
   "execution_count": 3,
   "metadata": {},
   "outputs": [
    {
     "name": "stdout",
     "output_type": "stream",
     "text": [
      "0.649999996026357\n",
      "15/15 [==============================] - 2s 124ms/step\n",
      "[1 0 0 1 1 1 0 1 1 1 1 0 0 0 1 0 1 0 0 1 1 1 1 1 1 1 1 0 0 1 0 1 0 1 1 0 0\n",
      " 1 1 0 0 0 1 0 1 0 1 1 0 1 0 0 1 0 1 1 1 1 0 1 0 1 0 1 0 1 0 1 0 0 1 1 0 1\n",
      " 0 1 0 1 1 1 1 1 1 0 1 0 1 1 1 1 0 1 0 1 1 1 1 1 0 0 1 1 1 1 0 1 1 0 1 1 1\n",
      " 1 1 1 0 1 1 0 1 1 1 0 0 1 1 1 1 1 1 0 0 1 1 1 0 1 1 1 1 1 1 1 1 1 1 0 1 1\n",
      " 1 0 1 0 1 1 1 1 1 1 1 0 1 1 0 1 0 1 0 1 1 1 1 0 0 1 0 0 1 1 0 0 1 1 1 0 1\n",
      " 1 1 1 1 1 1 1 1 0 1 1 0 1 0 0 1 0 1 1 0 0 1 0 1 0 1 0 1 1 1 1 1 1 0 1 1 0\n",
      " 0 0 1 0 1 1 1 0 1 1 1 1 0 1 1 1 0 1 0 1 1 1 1 1 1 0 1 1 0 1 1 1 0 1 1 1 1\n",
      " 1 0 1 0 1 1 1 0 0 0 1 0 1 0 1 0 1 0 1 1 1 0 1 1 1 0 1 1 1 1 1 0 1 1 0 1 0\n",
      " 1 1 1 1]\n"
     ]
    }
   ],
   "source": [
    "''' Evaluation of the model'''\n",
    "\n",
    "scores = model.evaluate_generator(generator = test_set)\n",
    "print(scores[1])\n",
    "\n",
    "'''Prediction of the model'''\n",
    "\n",
    "test_set.reset()\n",
    "pred=model.predict_generator(test_set,verbose=1)\n",
    "pred_class=np.argmax(pred,axis=1)\n",
    "print(pred_class)"
   ]
  },
  {
   "cell_type": "code",
   "execution_count": 53,
   "metadata": {},
   "outputs": [
    {
     "name": "stdout",
     "output_type": "stream",
     "text": [
      "{'cats': 0, 'dogs': 1}\n"
     ]
    }
   ],
   "source": [
    "''' Convert the labels back to dogs and cats from 0 and 1 '''\n",
    "\n",
    "labels = (training_set.class_indices)\n",
    "print(labels)\n",
    "labels = dict((v,k) for k,v in labels.items())\n",
    "predictions = [labels[k] for k in pred_class]"
   ]
  },
  {
   "cell_type": "code",
   "execution_count": 66,
   "metadata": {},
   "outputs": [
    {
     "data": {
      "image/png": "[encoded data removed]",
      "text/plain": [
       "<matplotlib.figure.Figure at 0x1ea0a3c0f28>"
      ]
     },
     "metadata": {},
     "output_type": "display_data"
    }
   ],
   "source": [
    "''' Testing the model on a new image '''\n",
    "\n",
    "test_image1 = image.load_img('dog_cat.jpg', target_size = (64, 64))\n",
    "test_image = image.img_to_array(test_image1)\n",
    "test_image = np.expand_dims(test_image, axis = 0)\n",
    "result = model.predict_classes(test_image)\n",
    "if result == 0:\n",
    "    name=\"Its a Cat\"\n",
    "else:\n",
    "    name=\"Its a Dog\"\n",
    "    \n",
    "plt.imshow(test_image1)\n",
    "plt.title(name)\n",
    "plt.show()"
   ]
  },
  {
   "cell_type": "code",
   "execution_count": null,
   "metadata": {},
   "outputs": [],
   "source": []
  }
 ],
 "metadata": {
  "kernelspec": {
   "display_name": "Python 3",
   "language": "python",
   "name": "python3"
  },
  "language_info": {
   "codemirror_mode": {
    "name": "ipython",
    "version": 3
   },
   "file_extension": ".py",
   "mimetype": "text/x-python",
   "name": "python",
   "nbconvert_exporter": "python",
   "pygments_lexer": "ipython3",
   "version": "3.6.3"
  }
 },
 "nbformat": 4,
 "nbformat_minor": 2
}
